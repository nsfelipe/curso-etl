{
 "cells": [
  {
   "cell_type": "markdown",
   "metadata": {},
   "source": [
    "## Python"
   ]
  },
  {
   "cell_type": "markdown",
   "metadata": {},
   "source": [
    "### Listas"
   ]
  },
  {
   "cell_type": "markdown",
   "metadata": {},
   "source": [
    "Definição de listas: é um objeto representado por uma sequencia de outro objetos. Os objetos são separados por virgula e ficam entre colchetes."
   ]
  },
  {
   "cell_type": "code",
   "execution_count": null,
   "metadata": {},
   "outputs": [],
   "source": [
    "lista = [1, 2, 3, 4]"
   ]
  },
  {
   "cell_type": "code",
   "execution_count": null,
   "metadata": {},
   "outputs": [],
   "source": [
    "lista"
   ]
  },
  {
   "cell_type": "code",
   "execution_count": null,
   "metadata": {},
   "outputs": [],
   "source": [
    "lista2 = []"
   ]
  },
  {
   "cell_type": "code",
   "execution_count": null,
   "metadata": {},
   "outputs": [],
   "source": [
    "# Criando uma lista com o range\n",
    "for elemento in range(4):\n",
    "    print(elemento)\n",
    "    if elemento != 0:\n",
    "        lista2.append(elemento)\n",
    "    print(lista2)\n"
   ]
  },
  {
   "cell_type": "code",
   "execution_count": null,
   "metadata": {},
   "outputs": [],
   "source": [
    "# Lista com string e integer\n",
    "lista3 = ['a', 2, 4, 'f', ['felipe', 'agnys']]\n"
   ]
  },
  {
   "cell_type": "markdown",
   "metadata": {},
   "source": [
    "#### Acessando valores da lista"
   ]
  },
  {
   "cell_type": "code",
   "execution_count": null,
   "metadata": {},
   "outputs": [],
   "source": [
    "# Acessando ultimo valor\n",
    "lista3[-1]"
   ]
  },
  {
   "cell_type": "code",
   "execution_count": null,
   "metadata": {},
   "outputs": [],
   "source": [
    "# Acessando valor de lista aninhada:\n",
    "\n",
    "lista3[-1][0]"
   ]
  },
  {
   "cell_type": "code",
   "execution_count": null,
   "metadata": {},
   "outputs": [],
   "source": [
    "# Juntando listas\n",
    "lista4 = lista3 + lista2\n",
    "\n",
    "lista4"
   ]
  },
  {
   "cell_type": "markdown",
   "metadata": {},
   "source": [
    "#### Verificando se um objeto pertence a uma lista\n"
   ]
  },
  {
   "cell_type": "code",
   "execution_count": null,
   "metadata": {},
   "outputs": [],
   "source": [
    "'felipe' in lista4"
   ]
  },
  {
   "cell_type": "code",
   "execution_count": null,
   "metadata": {},
   "outputs": [],
   "source": [
    "1 in lista4"
   ]
  },
  {
   "cell_type": "markdown",
   "metadata": {},
   "source": [
    "#### Métodos"
   ]
  },
  {
   "cell_type": "code",
   "execution_count": null,
   "metadata": {},
   "outputs": [],
   "source": [
    "lista3"
   ]
  },
  {
   "cell_type": "code",
   "execution_count": null,
   "metadata": {},
   "outputs": [],
   "source": [
    "# Remove item da lista de acordo com o indice\n",
    "lista3.pop(0)"
   ]
  },
  {
   "cell_type": "code",
   "execution_count": null,
   "metadata": {},
   "outputs": [],
   "source": [
    "# Remove item da lista de acordo com o informado\n",
    "lista3.remove('f')"
   ]
  },
  {
   "cell_type": "code",
   "execution_count": null,
   "metadata": {},
   "outputs": [],
   "source": [
    "lista3"
   ]
  },
  {
   "cell_type": "code",
   "execution_count": null,
   "metadata": {},
   "outputs": [],
   "source": [
    "# Alterando ordem da lista\n",
    "lista.sort(reverse=True)\n"
   ]
  },
  {
   "cell_type": "code",
   "execution_count": null,
   "metadata": {},
   "outputs": [],
   "source": [
    "# Exibe elemento de acordo com o index\n",
    "lista.index(1)\n"
   ]
  },
  {
   "cell_type": "code",
   "execution_count": null,
   "metadata": {},
   "outputs": [],
   "source": [
    "# Conta valores de uma lista\n",
    "lista.count(1)\n"
   ]
  },
  {
   "cell_type": "markdown",
   "metadata": {},
   "source": [
    "### Dicionários"
   ]
  },
  {
   "cell_type": "markdown",
   "metadata": {},
   "source": [
    "Definição de dicionário: É um objeto e representa a coleção de um ou mais objetos. Cada objeto tem sua chave e seu valor. Assim para acessar um valor de um determinado indice basta chamarmos a sua chave. Dicionarios são iniciados e terminados por chaves {}"
   ]
  },
  {
   "cell_type": "code",
   "execution_count": 150,
   "metadata": {},
   "outputs": [],
   "source": [
    "dict1 = {'nome': 'Felipe Nunes',\n",
    "         'idade': 18,\n",
    "         'status': 'ativo',\n",
    "         'area_atuacao': {'area': 'tecnologia',\n",
    "                          'nivel':'superior'}}"
   ]
  },
  {
   "cell_type": "code",
   "execution_count": 151,
   "metadata": {},
   "outputs": [
    {
     "data": {
      "text/plain": [
       "{'nome': 'Felipe Nunes',\n",
       " 'idade': 18,\n",
       " 'status': 'ativo',\n",
       " 'area_atuacao': {'area': 'tecnologia', 'nivel': 'superior'}}"
      ]
     },
     "execution_count": 151,
     "metadata": {},
     "output_type": "execute_result"
    }
   ],
   "source": [
    "dict1"
   ]
  },
  {
   "cell_type": "code",
   "execution_count": 152,
   "metadata": {},
   "outputs": [
    {
     "data": {
      "text/plain": [
       "dict"
      ]
     },
     "execution_count": 152,
     "metadata": {},
     "output_type": "execute_result"
    }
   ],
   "source": [
    "type(dict1)"
   ]
  },
  {
   "cell_type": "code",
   "execution_count": 153,
   "metadata": {},
   "outputs": [],
   "source": [
    "# Criando dicionarios com a função dict\n",
    "dict2 = dict(nome='Agnys Marques',\n",
    "             idade=18, \n",
    "             status='Ativo', \n",
    "             area_atuacao={'area': 'tecnologia',\n",
    "                           'nivel':'superior'})"
   ]
  },
  {
   "cell_type": "code",
   "execution_count": 154,
   "metadata": {},
   "outputs": [
    {
     "data": {
      "text/plain": [
       "{'nome': 'Agnys Marques',\n",
       " 'idade': 18,\n",
       " 'status': 'Ativo',\n",
       " 'area_atuacao': {'area': 'tecnologia', 'nivel': 'superior'}}"
      ]
     },
     "execution_count": 154,
     "metadata": {},
     "output_type": "execute_result"
    }
   ],
   "source": [
    "dict2"
   ]
  },
  {
   "cell_type": "code",
   "execution_count": 155,
   "metadata": {},
   "outputs": [],
   "source": [
    "# Criando listas de dicionarios:\n",
    "\n",
    "dict3 = (dict1, dict2)"
   ]
  },
  {
   "cell_type": "code",
   "execution_count": 156,
   "metadata": {},
   "outputs": [
    {
     "data": {
      "text/plain": [
       "({'nome': 'Felipe Nunes',\n",
       "  'idade': 18,\n",
       "  'status': 'ativo',\n",
       "  'area_atuacao': {'area': 'tecnologia', 'nivel': 'superior'}},\n",
       " {'nome': 'Agnys Marques',\n",
       "  'idade': 18,\n",
       "  'status': 'Ativo',\n",
       "  'area_atuacao': {'area': 'tecnologia', 'nivel': 'superior'}})"
      ]
     },
     "execution_count": 156,
     "metadata": {},
     "output_type": "execute_result"
    }
   ],
   "source": [
    "dict3"
   ]
  },
  {
   "cell_type": "code",
   "execution_count": 157,
   "metadata": {},
   "outputs": [],
   "source": [
    "dict4 = dict3*3"
   ]
  },
  {
   "cell_type": "code",
   "execution_count": 158,
   "metadata": {},
   "outputs": [
    {
     "data": {
      "text/plain": [
       "({'nome': 'Felipe Nunes',\n",
       "  'idade': 18,\n",
       "  'status': 'ativo',\n",
       "  'area_atuacao': {'area': 'tecnologia', 'nivel': 'superior'}},\n",
       " {'nome': 'Agnys Marques',\n",
       "  'idade': 18,\n",
       "  'status': 'Ativo',\n",
       "  'area_atuacao': {'area': 'tecnologia', 'nivel': 'superior'}},\n",
       " {'nome': 'Felipe Nunes',\n",
       "  'idade': 18,\n",
       "  'status': 'ativo',\n",
       "  'area_atuacao': {'area': 'tecnologia', 'nivel': 'superior'}},\n",
       " {'nome': 'Agnys Marques',\n",
       "  'idade': 18,\n",
       "  'status': 'Ativo',\n",
       "  'area_atuacao': {'area': 'tecnologia', 'nivel': 'superior'}},\n",
       " {'nome': 'Felipe Nunes',\n",
       "  'idade': 18,\n",
       "  'status': 'ativo',\n",
       "  'area_atuacao': {'area': 'tecnologia', 'nivel': 'superior'}},\n",
       " {'nome': 'Agnys Marques',\n",
       "  'idade': 18,\n",
       "  'status': 'Ativo',\n",
       "  'area_atuacao': {'area': 'tecnologia', 'nivel': 'superior'}})"
      ]
     },
     "execution_count": 158,
     "metadata": {},
     "output_type": "execute_result"
    }
   ],
   "source": [
    "dict4"
   ]
  },
  {
   "cell_type": "code",
   "execution_count": 159,
   "metadata": {},
   "outputs": [],
   "source": [
    "# Dicionarios aninhados\n",
    "\n",
    "dict5 = {'id': [1, 2, 3],\n",
    "         'user': {'nome': ['Felipe', 'Agnys', 'Emília'],\n",
    "                  'idade': [24, 22, 13]}}"
   ]
  },
  {
   "cell_type": "code",
   "execution_count": 160,
   "metadata": {},
   "outputs": [
    {
     "data": {
      "text/plain": [
       "{'id': [1, 2, 3],\n",
       " 'user': {'nome': ['Felipe', 'Agnys', 'Emília'], 'idade': [24, 22, 13]}}"
      ]
     },
     "execution_count": 160,
     "metadata": {},
     "output_type": "execute_result"
    }
   ],
   "source": [
    "dict5"
   ]
  },
  {
   "cell_type": "code",
   "execution_count": 161,
   "metadata": {},
   "outputs": [],
   "source": [
    "# Criando lista com a fução zip\n",
    "\n",
    "dict6 = dict(zip(['nome', 'idade', 'status'],\n",
    "                 ['Felipe Nunes', 24, 'Ativo']))"
   ]
  },
  {
   "cell_type": "markdown",
   "metadata": {},
   "source": [
    "#### Acessando valores do dicionário"
   ]
  },
  {
   "cell_type": "code",
   "execution_count": 162,
   "metadata": {},
   "outputs": [
    {
     "data": {
      "text/plain": [
       "{'nome': 'Felipe Nunes',\n",
       " 'idade': 18,\n",
       " 'status': 'ativo',\n",
       " 'area_atuacao': {'area': 'tecnologia', 'nivel': 'superior'}}"
      ]
     },
     "execution_count": 162,
     "metadata": {},
     "output_type": "execute_result"
    }
   ],
   "source": [
    "dict1"
   ]
  },
  {
   "cell_type": "code",
   "execution_count": 163,
   "metadata": {},
   "outputs": [
    {
     "data": {
      "text/plain": [
       "{'area': 'tecnologia', 'nivel': 'superior'}"
      ]
     },
     "execution_count": 163,
     "metadata": {},
     "output_type": "execute_result"
    }
   ],
   "source": [
    "dict1['area_atuacao']"
   ]
  },
  {
   "cell_type": "code",
   "execution_count": 164,
   "metadata": {},
   "outputs": [
    {
     "data": {
      "text/plain": [
       "18"
      ]
     },
     "execution_count": 164,
     "metadata": {},
     "output_type": "execute_result"
    }
   ],
   "source": [
    "dict1.get('idade')"
   ]
  },
  {
   "cell_type": "code",
   "execution_count": 165,
   "metadata": {},
   "outputs": [
    {
     "data": {
      "text/plain": [
       "'Não existe'"
      ]
     },
     "execution_count": 165,
     "metadata": {},
     "output_type": "execute_result"
    }
   ],
   "source": [
    "# Busca valor da chave e retorna mensagem caso não exista\n",
    "dict1.get('cidade', 'Não existe')"
   ]
  },
  {
   "cell_type": "code",
   "execution_count": 166,
   "metadata": {},
   "outputs": [
    {
     "data": {
      "text/plain": [
       "'ativo'"
      ]
     },
     "execution_count": 166,
     "metadata": {},
     "output_type": "execute_result"
    }
   ],
   "source": [
    "# Buscando valor da primeira chave do dicionário\n",
    "dict1.get(list(dict1)[2])"
   ]
  },
  {
   "cell_type": "markdown",
   "metadata": {},
   "source": [
    "### Iterando um dicionário"
   ]
  },
  {
   "cell_type": "code",
   "execution_count": 167,
   "metadata": {},
   "outputs": [
    {
     "data": {
      "text/plain": [
       "{'nome': 'Felipe Nunes',\n",
       " 'idade': 18,\n",
       " 'status': 'ativo',\n",
       " 'area_atuacao': {'area': 'tecnologia', 'nivel': 'superior'}}"
      ]
     },
     "execution_count": 167,
     "metadata": {},
     "output_type": "execute_result"
    }
   ],
   "source": [
    "dict1"
   ]
  },
  {
   "cell_type": "code",
   "execution_count": 168,
   "metadata": {},
   "outputs": [
    {
     "name": "stdout",
     "output_type": "stream",
     "text": [
      "nome Felipe Nunes\n",
      "idade 18\n",
      "status ativo\n",
      "area_atuacao {'area': 'tecnologia', 'nivel': 'superior'}\n"
     ]
    }
   ],
   "source": [
    "# Iterando as chaves do dicionário\n",
    "for chave in dict1.keys():\n",
    "    print(chave, dict1[chave])"
   ]
  },
  {
   "cell_type": "code",
   "execution_count": 169,
   "metadata": {},
   "outputs": [
    {
     "name": "stdout",
     "output_type": "stream",
     "text": [
      "nome Felipe Nunes\n",
      "idade 18\n",
      "status ativo\n",
      "area_atuacao {'area': 'tecnologia', 'nivel': 'superior'}\n"
     ]
    }
   ],
   "source": [
    "# Iterando os itens do dicionário\n",
    "for chave, valor in dict1.items():\n",
    "    print(chave, valor)"
   ]
  },
  {
   "cell_type": "markdown",
   "metadata": {},
   "source": [
    "### Juntando dicionários"
   ]
  },
  {
   "cell_type": "code",
   "execution_count": 170,
   "metadata": {},
   "outputs": [
    {
     "data": {
      "text/plain": [
       "{'nome': 'Felipe Nunes',\n",
       " 'idade': 18,\n",
       " 'status': 'ativo',\n",
       " 'area_atuacao': {'area': 'tecnologia', 'nivel': 'superior'}}"
      ]
     },
     "execution_count": 170,
     "metadata": {},
     "output_type": "execute_result"
    }
   ],
   "source": [
    "dict1"
   ]
  },
  {
   "cell_type": "code",
   "execution_count": 171,
   "metadata": {},
   "outputs": [
    {
     "data": {
      "text/plain": [
       "{'nome': 'Agnys Marques',\n",
       " 'idade': 18,\n",
       " 'status': 'Ativo',\n",
       " 'area_atuacao': {'area': 'tecnologia', 'nivel': 'superior'}}"
      ]
     },
     "execution_count": 171,
     "metadata": {},
     "output_type": "execute_result"
    }
   ],
   "source": [
    "dict2"
   ]
  },
  {
   "cell_type": "code",
   "execution_count": 172,
   "metadata": {},
   "outputs": [],
   "source": [
    "# dict1.update(dict2)"
   ]
  },
  {
   "cell_type": "code",
   "execution_count": 173,
   "metadata": {},
   "outputs": [
    {
     "data": {
      "text/plain": [
       "{'nome': 'Felipe Nunes',\n",
       " 'idade': 18,\n",
       " 'status': 'ativo',\n",
       " 'area_atuacao': {'area': 'tecnologia', 'nivel': 'superior'}}"
      ]
     },
     "execution_count": 173,
     "metadata": {},
     "output_type": "execute_result"
    }
   ],
   "source": [
    "dict1"
   ]
  },
  {
   "cell_type": "code",
   "execution_count": 174,
   "metadata": {},
   "outputs": [],
   "source": [
    "# Criando nova chave e adicionando valores\n",
    "dict1['cidade'] = 'Belo Horizonte'"
   ]
  },
  {
   "cell_type": "code",
   "execution_count": 175,
   "metadata": {},
   "outputs": [
    {
     "data": {
      "text/plain": [
       "{'nome': 'Felipe Nunes',\n",
       " 'idade': 18,\n",
       " 'status': 'ativo',\n",
       " 'area_atuacao': {'area': 'tecnologia', 'nivel': 'superior'},\n",
       " 'cidade': 'Belo Horizonte'}"
      ]
     },
     "execution_count": 175,
     "metadata": {},
     "output_type": "execute_result"
    }
   ],
   "source": [
    "dict1"
   ]
  },
  {
   "cell_type": "code",
   "execution_count": 176,
   "metadata": {},
   "outputs": [],
   "source": [
    "dict1.update({'nacionalidade': 'brasileiro'})"
   ]
  },
  {
   "cell_type": "code",
   "execution_count": 177,
   "metadata": {},
   "outputs": [
    {
     "data": {
      "text/plain": [
       "{'nome': 'Felipe Nunes',\n",
       " 'idade': 18,\n",
       " 'status': 'ativo',\n",
       " 'area_atuacao': {'area': 'tecnologia', 'nivel': 'superior'},\n",
       " 'cidade': 'Belo Horizonte',\n",
       " 'nacionalidade': 'brasileiro'}"
      ]
     },
     "execution_count": 177,
     "metadata": {},
     "output_type": "execute_result"
    }
   ],
   "source": [
    "dict1"
   ]
  },
  {
   "cell_type": "code",
   "execution_count": 178,
   "metadata": {},
   "outputs": [
    {
     "data": {
      "text/plain": [
       "{'nome': 'Agnys Marques',\n",
       " 'idade': 18,\n",
       " 'status': 'Ativo',\n",
       " 'area_atuacao': {'area': 'tecnologia', 'nivel': 'superior'}}"
      ]
     },
     "execution_count": 178,
     "metadata": {},
     "output_type": "execute_result"
    }
   ],
   "source": [
    "dict2"
   ]
  },
  {
   "cell_type": "code",
   "execution_count": 180,
   "metadata": {},
   "outputs": [
    {
     "data": {
      "text/plain": [
       "{'nome': 'Agnys Marques',\n",
       " 'idade': 18,\n",
       " 'status': 'Ativo',\n",
       " 'area_atuacao': {'area': 'tecnologia', 'nivel': 'superior'},\n",
       " 'cidade': 'Belo Horizonte',\n",
       " 'nacionalidade': 'brasileiro'}"
      ]
     },
     "execution_count": 180,
     "metadata": {},
     "output_type": "execute_result"
    }
   ],
   "source": [
    "{**dict1, **dict2}"
   ]
  },
  {
   "cell_type": "markdown",
   "metadata": {},
   "source": [
    "### Verificando se um valor pertence a chave"
   ]
  },
  {
   "cell_type": "code",
   "execution_count": 185,
   "metadata": {},
   "outputs": [
    {
     "data": {
      "text/plain": [
       "{'nome': 'Felipe Nunes',\n",
       " 'idade': 18,\n",
       " 'status': 'ativo',\n",
       " 'area_atuacao': {'area': 'tecnologia', 'nivel': 'superior'},\n",
       " 'cidade': 'Belo Horizonte',\n",
       " 'nacionalidade': 'brasileiro'}"
      ]
     },
     "execution_count": 185,
     "metadata": {},
     "output_type": "execute_result"
    }
   ],
   "source": [
    "dict1"
   ]
  },
  {
   "cell_type": "code",
   "execution_count": 184,
   "metadata": {},
   "outputs": [
    {
     "data": {
      "text/plain": [
       "True"
      ]
     },
     "execution_count": 184,
     "metadata": {},
     "output_type": "execute_result"
    }
   ],
   "source": [
    "'Felipe Nunes' == dict1['nome']"
   ]
  },
  {
   "cell_type": "markdown",
   "metadata": {},
   "source": [
    "### Métodos"
   ]
  },
  {
   "cell_type": "code",
   "execution_count": 186,
   "metadata": {},
   "outputs": [
    {
     "data": {
      "text/plain": [
       "{'nome': 'Felipe Nunes',\n",
       " 'idade': 18,\n",
       " 'status': 'ativo',\n",
       " 'area_atuacao': {'area': 'tecnologia', 'nivel': 'superior'},\n",
       " 'cidade': 'Belo Horizonte',\n",
       " 'nacionalidade': 'brasileiro'}"
      ]
     },
     "execution_count": 186,
     "metadata": {},
     "output_type": "execute_result"
    }
   ],
   "source": [
    "dict1"
   ]
  },
  {
   "cell_type": "code",
   "execution_count": 187,
   "metadata": {},
   "outputs": [],
   "source": [
    "# limpando conteudo do dicionário\n",
    "\n",
    "dict1.clear()"
   ]
  },
  {
   "cell_type": "code",
   "execution_count": 188,
   "metadata": {},
   "outputs": [
    {
     "data": {
      "text/plain": [
       "{}"
      ]
     },
     "execution_count": 188,
     "metadata": {},
     "output_type": "execute_result"
    }
   ],
   "source": [
    "dict1"
   ]
  },
  {
   "cell_type": "code",
   "execution_count": 191,
   "metadata": {},
   "outputs": [],
   "source": [
    "# Copiando dicionário\n",
    "dict5 = dict2.copy()"
   ]
  },
  {
   "cell_type": "code",
   "execution_count": 192,
   "metadata": {},
   "outputs": [
    {
     "data": {
      "text/plain": [
       "18"
      ]
     },
     "execution_count": 192,
     "metadata": {},
     "output_type": "execute_result"
    }
   ],
   "source": [
    "# removendo item do dicionário\n",
    "dict2.pop('idade')"
   ]
  },
  {
   "cell_type": "code",
   "execution_count": 193,
   "metadata": {},
   "outputs": [
    {
     "data": {
      "text/plain": [
       "{'nome': 'Agnys Marques',\n",
       " 'status': 'Ativo',\n",
       " 'area_atuacao': {'area': 'tecnologia', 'nivel': 'superior'}}"
      ]
     },
     "execution_count": 193,
     "metadata": {},
     "output_type": "execute_result"
    }
   ],
   "source": [
    "dict2"
   ]
  },
  {
   "cell_type": "code",
   "execution_count": null,
   "metadata": {},
   "outputs": [],
   "source": []
  }
 ],
 "metadata": {
  "kernelspec": {
   "display_name": "Python 3.9.12 ('base')",
   "language": "python",
   "name": "python3"
  },
  "language_info": {
   "codemirror_mode": {
    "name": "ipython",
    "version": 3
   },
   "file_extension": ".py",
   "mimetype": "text/x-python",
   "name": "python",
   "nbconvert_exporter": "python",
   "pygments_lexer": "ipython3",
   "version": "3.9.12"
  },
  "orig_nbformat": 4,
  "vscode": {
   "interpreter": {
    "hash": "ad2bdc8ecc057115af97d19610ffacc2b4e99fae6737bb82f5d7fb13d2f2c186"
   }
  }
 },
 "nbformat": 4,
 "nbformat_minor": 2
}
